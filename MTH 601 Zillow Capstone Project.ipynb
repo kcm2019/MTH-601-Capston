{
 "cells": [
  {
   "cell_type": "markdown",
   "metadata": {},
   "source": [
    "# MTH 601 Capstone Project \n",
    "## By Kurt Muller, Rodrigo Henriquez, Kaitlyn Torres, and Christopher Benson\n",
    "\n",
    "This notebook has been created to keep track of all work related to our capstone project\n",
    "\n",
    "> **Capstone Project Prompt**: \n",
    "<br />Parse the zillow website to find houses in your zip code.\n",
    "https://www.zillow.com/long-island-ny/\n",
    "<br />Get useful features such as:<br />   - Listing price<br />   - Sales price<br />   - Days on market<br />   - Num beds<br />   - Num baths<br />   - Age<br />   - Tax<br />   - School district<br />   - Attractions - school, worship, waterfront, etc.<br />   - Zillow valuation score<br />You might be predicting/improving the Zillow valuation score as the y-variable, or predicting if it is going to sell using days on market or sale completion as the y-variable.\n",
    "\n",
    "## Technologies Used\n",
    "\n",
    "**Pandas** is a Python package built upon Nympy to create DataFrames. This is good for Data Science to allow users to organize, display, modify, inspect data and much more. \n",
    "> **More Information**: Official Website: https://pandas.pydata.org\n",
    "\n",
    "**BeautifulSoup** is another Python package for web scrapping. This allows us to extract any information from websites and manipulate it whatever we want to do.\n",
    "\n",
    "> **More Information**: Official Website: https://www.crummy.com/software/BeautifulSoup/\n",
    "\n",
    "**Selenium** drives a browser natively, as a user would, either locally or on a remote machine using the Selenium server, marks a leap forward in terms of browser automation.\n",
    "\n",
    "> **More Information**: Selenium requires a web driver to launch. For this program, we chose the Chrome web driver. Use the link (https://sites.google.com/chromium.org/driver/) to download the appropriate driver.<br /><br />Once the driver is downloaded, click the executable to run it. You must have the Chrome browser also installed on the device. Check the Chrome browser version and download the propriate web driver version. For example, for Chrome version 106.0.5249.103, you would choose the Chrome 106 web driver. In our code, we avoid this hassle by using webdriver_manager.\n",
    "\n",
    "**webdriver_manager** is a python package that simplifies the installation and management of binary drivers for different browsers\n",
    "\n",
    "> **More Information**: Official Website: https://pypi.org/project/webdriver-manager/"
   ]
  },
  {
   "cell_type": "markdown",
   "metadata": {},
   "source": [
    "## Importing Packages\n",
    "Here is where we import the packges that this program will be using. Make sure to run this code first before using the rest of the program. "
   ]
  },
  {
   "cell_type": "code",
   "execution_count": 17,
   "metadata": {},
   "outputs": [],
   "source": [
    "from bs4 import BeautifulSoup\n",
    "import requests\n",
    "from webdriver_manager.chrome import ChromeDriverManager\n",
    "from selenium import webdriver\n",
    "from selenium.webdriver.common.keys import Keys\n",
    "import time"
   ]
  },
  {
   "cell_type": "markdown",
   "metadata": {},
   "source": [
    "## Testing Selenium\n",
    "Here this code shows the basics in having Selenium grab a website based off a give URL."
   ]
  },
  {
   "cell_type": "code",
   "execution_count": null,
   "metadata": {},
   "outputs": [],
   "source": [
    "'''This is an alternaitve way to set up the chromedriver. Since we are using webdriver_manager, we do not need to do it this way'''\n",
    "#You must change this path to the path of the chromedriver on your machine\n",
    "#PATH = \"/Users/km/Applications/chromedriver\" \n",
    "#driver = webdriver.Chrome(PATH)\n",
    "\n",
    "'''Instead we set up the chromedriver using the following code below'''\n",
    "#Setting up the driver and testing\n",
    "driver = webdriver.Chrome(ChromeDriverManager().install())\n",
    "\n",
    "url = \"https://www.zillow.com/homedetails/374-Stewart-Ave-Garden-City-NY-11530/31195014_zpid/\"  \n",
    "driver.get(url)\n",
    "html = driver.page_source\n",
    "print(html)\n",
    "\n",
    "time.sleep(5)\n",
    "driver.quit()"
   ]
  },
  {
   "cell_type": "markdown",
   "metadata": {},
   "source": [
    "## Zillow's Captcha Issue\n",
    "An issue with using Selenium is that it gets flagged as non-human use and causes Zillow to throw up a Captcha. As a result of this, we have decided to use the housing information from another site, https://www.realtor.com/, that contains very similar information that we can scrape from and use it to attempt to create our own Zillow Zestimate®."
   ]
  },
  {
   "cell_type": "markdown",
   "metadata": {},
   "source": [
    "## Using Selenium to Search a Zip Code on Realtor.com\n",
    "In this example, we take a given zip code, in this case '11530', and have selenium search for us. "
   ]
  },
  {
   "cell_type": "code",
   "execution_count": null,
   "metadata": {},
   "outputs": [],
   "source": [
    "\n",
    "url = \"https://www.zillow.com/\"    \n",
    "     \n",
    "#You must change this path to the path of the chromedriver on your machine\n",
    "PATH = \"/Users/km/Applications/chromedriver\" \n",
    "\n",
    "#Setting up the driver and testing\n",
    "driver = webdriver.Chrome(PATH)\n",
    "#driver.get(url)\n",
    "#html = driver.page_source\n",
    "#print(html)\n",
    "\n",
    "#This accesses Zillow's search bar and allows you \n",
    "#print(driver.find_element(\"StyledFormControl-c11n-8-69-2__sc-18qgis1-0 jNDtkv Input-c11n-8-69-2__sc-4ry0fw-0 foXcRe react-autosuggest__input\"))\n",
    "#search = driver.find_element(By.CLASS_NAME, \"StyledFormControl-c11n-8-69-2__sc-18qgis1-0 jNDtkv Input-c11n-8-69-2__sc-4ry0fw-0 foXcRe react-autosuggest__input\")\n",
    "\n",
    "'''\n",
    "#Search for the example zip code '11530'\n",
    "zipCode = \"11530\"\n",
    "search.send_keys(zipCode)\n",
    "search.send_keys(Keys.RETURN)\n",
    "\n",
    "#Alternate way to search via url\n",
    "zipCode = \"11530\"\n",
    "url = url + \"/homes/\" + zipCode + \"_rb/\"\n",
    "'''\n",
    "url = \"https://www.realtor.com/realestateandhomes-search/11530\"\n",
    "print(\"\\n\\n\\n**URL**:\" + url + \"\\n\\n\\n\")\n",
    "driver.get(url)\n",
    "html = driver.page_source\n",
    "print(html)\n",
    "\n",
    "time.sleep(2)\n",
    "\n",
    "driver.quit()\n"
   ]
  },
  {
   "cell_type": "code",
   "execution_count": null,
   "metadata": {},
   "outputs": [],
   "source": []
  },
  {
   "cell_type": "code",
   "execution_count": null,
   "metadata": {},
   "outputs": [],
   "source": []
  }
 ],
 "metadata": {
  "kernelspec": {
   "display_name": "Python 3.9.1 64-bit",
   "language": "python",
   "name": "python3"
  },
  "language_info": {
   "codemirror_mode": {
    "name": "ipython",
    "version": 3
   },
   "file_extension": ".py",
   "mimetype": "text/x-python",
   "name": "python",
   "nbconvert_exporter": "python",
   "pygments_lexer": "ipython3",
   "version": "3.9.1"
  },
  "vscode": {
   "interpreter": {
    "hash": "aee8b7b246df8f9039afb4144a1f6fd8d2ca17a180786b69acc140d282b71a49"
   }
  }
 },
 "nbformat": 4,
 "nbformat_minor": 4
}
