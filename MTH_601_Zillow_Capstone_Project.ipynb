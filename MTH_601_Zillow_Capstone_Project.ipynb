{
 "cells": [
  {
   "cell_type": "code",
   "execution_count": 3,
   "metadata": {},
   "outputs": [],
   "source": [
    "import bs4\n",
    "from bs4 import BeautifulSoup\n",
    "import requests\n",
    "from webdriver_manager.chrome import ChromeDriverManager\n",
    "import selenium\n",
    "from selenium import webdriver\n",
    "from selenium.webdriver.common.keys import Keys\n",
    "from selenium.webdriver.common.by import By\n",
    "from selenium_stealth import stealth\n",
    "import time\n",
    "import warnings\n",
    "warnings.filterwarnings(\"ignore\")\n",
    "import playwright\n"
   ]
  },
  {
   "cell_type": "code",
   "execution_count": 2,
   "metadata": {},
   "outputs": [],
   "source": []
  },
  {
   "cell_type": "code",
   "execution_count": null,
   "metadata": {},
   "outputs": [],
   "source": [
    "from playwright.async_api import async_playwright\n"
   ]
  },
  {
   "cell_type": "code",
   "execution_count": null,
   "metadata": {},
   "outputs": [],
   "source": [
    "pip install pandas"
   ]
  },
  {
   "cell_type": "code",
   "execution_count": 1,
   "metadata": {},
   "outputs": [],
   "source": [
    "import pandas as pd\n",
    "import time\n",
    "import asyncio\n",
    "from playwright.async_api import async_playwright\n",
    "from bs4 import BeautifulSoup as bs\n",
    "zipCode = \"11530\"\n",
    "url = \"https://www.realtor.com/realestateandhomes-search/\" + zipCode\n",
    "\n",
    "prices=[]\n",
    "address=[]\n",
    "beds=[]\n",
    "baths=[]\n",
    "sqfts=[]\n",
    "sqftlots=[]\n",
    "\n",
    "async def main():\n",
    "    async with async_playwright() as p:\n",
    "        browser = await p.chromium.launch(headless=True)\n",
    "        page = await browser.new_page()\n",
    "        await page.goto(url)\n",
    "        time.sleep(6)\n",
    "        html = await page.content()\n",
    "        soup = bs(html, 'html.parser')\n",
    "        for l in soup.find_all('ul',{'class':\"jsx-343105667 property-list list-unstyle\"}):\n",
    "            for c in l.find_all('li'):\n",
    "                for d in c.find_all('div',{'class':\"jsx-11645185 summary-wrap\"}):\n",
    "                    for price in d.find_all('span',{'class':\"Price__Component-rui__x3geed-0 gipzbd\"}):\n",
    "                        prices.append(price.text)\n",
    "                    for a in d.find_all('div',{'class': \"jsx-11645185 address ellipsis srp-page-address srp-address-redesign\"} ):\n",
    "                        address.append(a.text)\n",
    "                    for bed in d.find_all('li', {'data-label':\"pc-meta-beds\"}):\n",
    "                        beds.append(bed.text)\n",
    "                    for bath in d.find_all('li', {'data-label':\"pc-meta-baths\"}):\n",
    "                        baths.append(bath.text)\n",
    "                    if d.find('li', {'data-label':\"pc-meta-sqft\"}):\n",
    "                        for sqft in d.find_all('li', {'data-label':\"pc-meta-sqft\"}):\n",
    "                            sqfts.append(sqft.text)\n",
    "                    else:\n",
    "                        sqfts.append(None)\n",
    "                    if(d.find('li', {'data-label':\"pc-meta-sqftlot\"})):\n",
    "                        for sqftlot in d.find_all('li', {'data-label':\"pc-meta-sqftlot\"}):\n",
    "                            sqftlots.append(sqftlot.text)\n",
    "                    else:\n",
    "                        sqftlots.append(None)\n",
    "                        \n",
    "                        \n",
    "                               \n",
    "                        \n",
    "\n",
    "        time.sleep(5)\n",
    "        df = pd.DataFrame()\n",
    "        df['Address']=address\n",
    "        df['Prices']= prices\n",
    "        df['Bed']= beds\n",
    "        df['Bath']= baths\n",
    "        df['Sqft']=sqfts\n",
    "        df['Sqft Lot']=sqftlots\n",
    "       \n",
    "        \n",
    "        return df\n",
    "        \n",
    "\n",
    "        # await browser.close()\n",
    "\n",
    "\n",
    "\n"
   ]
  },
  {
   "cell_type": "code",
   "execution_count": 2,
   "metadata": {},
   "outputs": [],
   "source": [
    "df=await main()"
   ]
  },
  {
   "cell_type": "code",
   "execution_count": 3,
   "metadata": {},
   "outputs": [],
   "source": [
    "#pip install geopy"
   ]
  },
  {
   "cell_type": "code",
   "execution_count": 4,
   "metadata": {},
   "outputs": [
    {
     "name": "stderr",
     "output_type": "stream",
     "text": [
      "/Library/Frameworks/Python.framework/Versions/3.8/lib/python3.8/site-packages/requests/__init__.py:89: RequestsDependencyWarning: urllib3 (1.26.12) or chardet (3.0.4) doesn't match a supported version!\n",
      "  warnings.warn(\"urllib3 ({}) or chardet ({}) doesn't match a supported \"\n"
     ]
    }
   ],
   "source": [
    "from geopy.geocoders import Nominatim\n",
    "\n",
    "# Initialize Nominatim API\n",
    "geolocator = Nominatim(user_agent=\"MyApp\")\n"
   ]
  },
  {
   "cell_type": "code",
   "execution_count": 5,
   "metadata": {},
   "outputs": [],
   "source": [
    "#location = geolocator.geocode(\"107 Meadow St, Garden City, NY 11530\")"
   ]
  },
  {
   "cell_type": "code",
   "execution_count": 6,
   "metadata": {},
   "outputs": [],
   "source": [
    "lat=[]\n",
    "long=[]\n",
    "for l in df['Address']:\n",
    "    if('Unit' in l):\n",
    "        bl,ml,al=l.partition('Unit')\n",
    "        l1,l2,l3=al.partition(',')\n",
    "        l=l.replace(l1,\"\")\n",
    "        l=l.replace(\"Unit\",\"\")\n",
    "    elif('Apt' in l):\n",
    "        bl,ml,al=l.partition('Apt')\n",
    "        l1,l2,l3=al.partition(',')\n",
    "        l=l.replace(l1,\"\")\n",
    "        l=l.replace(\"Apt\",\"\")\n",
    "        \n",
    "    location = geolocator.geocode(l,timeout=10)\n",
    "    if location is None:\n",
    "        lat.append(None)\n",
    "        long.append(None)\n",
    "        \n",
    "\n",
    "    else:\n",
    "        lat.append(location.latitude)\n",
    "        long.append(location.longitude)\n",
    "\n",
    "        \n",
    "df['Latitude']=lat\n",
    "df['Longitude']=long\n",
    "    "
   ]
  },
  {
   "cell_type": "code",
   "execution_count": null,
   "metadata": {},
   "outputs": [],
   "source": [
    "pip install plotly==5.11.0"
   ]
  },
  {
   "cell_type": "code",
   "execution_count": 9,
   "metadata": {},
   "outputs": [
    {
     "data": {
      "text/html": [
       "<script>\n",
       "code_show=true; \n",
       "function code_toggle() {\n",
       " if (code_show){\n",
       " $('div.input').hide();\n",
       " } else {\n",
       " $('div.input').show();\n",
       " }\n",
       " code_show = !code_show\n",
       "} \n",
       "$( document ).ready(code_toggle);\n",
       "</script>\n",
       "<form action=\"javascript:code_toggle()\"><input type=\"submit\" value=\"Click here to toggle on/off the raw code.\"></form>"
      ],
      "text/plain": [
       "<IPython.core.display.HTML object>"
      ]
     },
     "execution_count": 9,
     "metadata": {},
     "output_type": "execute_result"
    }
   ],
   "source": [
    "from IPython.display import HTML\n"
   ]
  },
  {
   "cell_type": "code",
   "execution_count": 9,
   "metadata": {},
   "outputs": [
    {
     "data": {
      "text/html": [
       "<div>\n",
       "<style scoped>\n",
       "    .dataframe tbody tr th:only-of-type {\n",
       "        vertical-align: middle;\n",
       "    }\n",
       "\n",
       "    .dataframe tbody tr th {\n",
       "        vertical-align: top;\n",
       "    }\n",
       "\n",
       "    .dataframe thead th {\n",
       "        text-align: right;\n",
       "    }\n",
       "</style>\n",
       "<table border=\"1\" class=\"dataframe\">\n",
       "  <thead>\n",
       "    <tr style=\"text-align: right;\">\n",
       "      <th></th>\n",
       "      <th>Address</th>\n",
       "      <th>Prices</th>\n",
       "      <th>Bed</th>\n",
       "      <th>Bath</th>\n",
       "      <th>Sqft</th>\n",
       "      <th>Sqft Lot</th>\n",
       "      <th>Latitude</th>\n",
       "      <th>Longitude</th>\n",
       "    </tr>\n",
       "  </thead>\n",
       "  <tbody>\n",
       "    <tr>\n",
       "      <th>0</th>\n",
       "      <td>237 Dover Pkwy, Stewart Manor, NY 11530</td>\n",
       "      <td>$649,000</td>\n",
       "      <td>4bed</td>\n",
       "      <td>2bath</td>\n",
       "      <td>1,910sqft</td>\n",
       "      <td>0.31acre lot</td>\n",
       "      <td>40.715970</td>\n",
       "      <td>-73.685638</td>\n",
       "    </tr>\n",
       "    <tr>\n",
       "      <th>1</th>\n",
       "      <td>96 Willow St, Garden City, NY 11530</td>\n",
       "      <td>$998,000</td>\n",
       "      <td>3bed</td>\n",
       "      <td>2bath</td>\n",
       "      <td>None</td>\n",
       "      <td>6,000sqft lot</td>\n",
       "      <td>40.720859</td>\n",
       "      <td>-73.618847</td>\n",
       "    </tr>\n",
       "    <tr>\n",
       "      <th>2</th>\n",
       "      <td>91 Cambridge Ave, Stewart Manor, NY 11530</td>\n",
       "      <td>$729,000</td>\n",
       "      <td>3bed</td>\n",
       "      <td>2bath</td>\n",
       "      <td>None</td>\n",
       "      <td>7,150sqft lot</td>\n",
       "      <td>40.717224</td>\n",
       "      <td>-73.684969</td>\n",
       "    </tr>\n",
       "    <tr>\n",
       "      <th>3</th>\n",
       "      <td>17 Wyatt Rd, Garden City, NY 11530</td>\n",
       "      <td>$1,349,000</td>\n",
       "      <td>4bed</td>\n",
       "      <td>3bath</td>\n",
       "      <td>None</td>\n",
       "      <td>6,100sqft lot</td>\n",
       "      <td>40.733156</td>\n",
       "      <td>-73.628878</td>\n",
       "    </tr>\n",
       "    <tr>\n",
       "      <th>4</th>\n",
       "      <td>281 New Hyde Park Rd, Garden City, NY 11530</td>\n",
       "      <td>$849,000</td>\n",
       "      <td>3bed</td>\n",
       "      <td>2.5bath</td>\n",
       "      <td>None</td>\n",
       "      <td>7,000sqft lot</td>\n",
       "      <td>40.729491</td>\n",
       "      <td>-73.678791</td>\n",
       "    </tr>\n",
       "    <tr>\n",
       "      <th>5</th>\n",
       "      <td>366 Stewart Ave Apt B11, Garden City, NY 11530</td>\n",
       "      <td>$249,000</td>\n",
       "      <td>Studio</td>\n",
       "      <td>1bath</td>\n",
       "      <td>None</td>\n",
       "      <td>None</td>\n",
       "      <td>40.726393</td>\n",
       "      <td>-73.632735</td>\n",
       "    </tr>\n",
       "    <tr>\n",
       "      <th>6</th>\n",
       "      <td>148 Bromleigh Rd, Stewart Manor, NY 11530</td>\n",
       "      <td>$879,000</td>\n",
       "      <td>3bed</td>\n",
       "      <td>2bath</td>\n",
       "      <td>1,711sqft</td>\n",
       "      <td>5,000sqft lot</td>\n",
       "      <td>40.718799</td>\n",
       "      <td>-73.686790</td>\n",
       "    </tr>\n",
       "    <tr>\n",
       "      <th>7</th>\n",
       "      <td>259 New Hyde Park Rd, Garden City, NY 11530</td>\n",
       "      <td>$829,000</td>\n",
       "      <td>3bed</td>\n",
       "      <td>1.5bath</td>\n",
       "      <td>None</td>\n",
       "      <td>4,000sqft lot</td>\n",
       "      <td>40.728478</td>\n",
       "      <td>-73.678837</td>\n",
       "    </tr>\n",
       "    <tr>\n",
       "      <th>8</th>\n",
       "      <td>125 Second St Unit J, Garden City, NY 11530</td>\n",
       "      <td>$228,000</td>\n",
       "      <td>Studio</td>\n",
       "      <td>1bath</td>\n",
       "      <td>None</td>\n",
       "      <td>None</td>\n",
       "      <td>NaN</td>\n",
       "      <td>NaN</td>\n",
       "    </tr>\n",
       "    <tr>\n",
       "      <th>9</th>\n",
       "      <td>36 Maxwell Rd, Garden City, NY 11530</td>\n",
       "      <td>$1,198,888</td>\n",
       "      <td>5bed</td>\n",
       "      <td>2.5bath</td>\n",
       "      <td>2,479sqft</td>\n",
       "      <td>7,000sqft lot</td>\n",
       "      <td>40.738526</td>\n",
       "      <td>-73.624819</td>\n",
       "    </tr>\n",
       "    <tr>\n",
       "      <th>10</th>\n",
       "      <td>361 Kilburn Rd S, Garden City South, NY 11530</td>\n",
       "      <td>$779,000</td>\n",
       "      <td>3bed</td>\n",
       "      <td>2bath</td>\n",
       "      <td>1,808sqft</td>\n",
       "      <td>6,000sqft lot</td>\n",
       "      <td>40.716519</td>\n",
       "      <td>-73.660312</td>\n",
       "    </tr>\n",
       "    <tr>\n",
       "      <th>11</th>\n",
       "      <td>151 Weyford Ter, Garden City, NY 11530</td>\n",
       "      <td>$1,250,000</td>\n",
       "      <td>4bed</td>\n",
       "      <td>3.5bath</td>\n",
       "      <td>None</td>\n",
       "      <td>8,250sqft lot</td>\n",
       "      <td>40.729378</td>\n",
       "      <td>-73.665291</td>\n",
       "    </tr>\n",
       "    <tr>\n",
       "      <th>12</th>\n",
       "      <td>7 Carteret Pl, Garden City, NY 11530</td>\n",
       "      <td>$5,999,000</td>\n",
       "      <td>8bed</td>\n",
       "      <td>7.5+bath</td>\n",
       "      <td>17,500sqft</td>\n",
       "      <td>0.99acre lot</td>\n",
       "      <td>40.729849</td>\n",
       "      <td>-73.644187</td>\n",
       "    </tr>\n",
       "    <tr>\n",
       "      <th>13</th>\n",
       "      <td>157 Elton Rd, Stewart Manor, NY 11530</td>\n",
       "      <td>$829,000</td>\n",
       "      <td>3bed</td>\n",
       "      <td>2bath</td>\n",
       "      <td>1,673sqft</td>\n",
       "      <td>5,000sqft lot</td>\n",
       "      <td>40.718518</td>\n",
       "      <td>-73.684475</td>\n",
       "    </tr>\n",
       "    <tr>\n",
       "      <th>14</th>\n",
       "      <td>107 Meadow St, Garden City, NY 11530</td>\n",
       "      <td>$1,185,000</td>\n",
       "      <td>4bed</td>\n",
       "      <td>3.5bath</td>\n",
       "      <td>2,450sqft</td>\n",
       "      <td>8,300sqft lot</td>\n",
       "      <td>40.720616</td>\n",
       "      <td>-73.618743</td>\n",
       "    </tr>\n",
       "    <tr>\n",
       "      <th>15</th>\n",
       "      <td>100 Hilton Ave Unit M29, Garden City, NY 11530</td>\n",
       "      <td>$1,599,000</td>\n",
       "      <td>3bed</td>\n",
       "      <td>3.5bath</td>\n",
       "      <td>2,249sqft</td>\n",
       "      <td>4.59acre lot</td>\n",
       "      <td>40.725571</td>\n",
       "      <td>-73.640160</td>\n",
       "    </tr>\n",
       "    <tr>\n",
       "      <th>16</th>\n",
       "      <td>40 Bayberry Ave, Garden City, NY 11530</td>\n",
       "      <td>$998,000</td>\n",
       "      <td>3bed</td>\n",
       "      <td>2.5bath</td>\n",
       "      <td>None</td>\n",
       "      <td>0.23acre lot</td>\n",
       "      <td>40.738622</td>\n",
       "      <td>-73.629568</td>\n",
       "    </tr>\n",
       "    <tr>\n",
       "      <th>17</th>\n",
       "      <td>12 Warton Pl, Garden City, NY 11530</td>\n",
       "      <td>$1,699,000</td>\n",
       "      <td>5bed</td>\n",
       "      <td>5.5+bath</td>\n",
       "      <td>4,065sqft</td>\n",
       "      <td>0.46acre lot</td>\n",
       "      <td>40.729917</td>\n",
       "      <td>-73.629724</td>\n",
       "    </tr>\n",
       "    <tr>\n",
       "      <th>18</th>\n",
       "      <td>100 Hilton Ave Unit M12, Garden City, NY 11530</td>\n",
       "      <td>$1,099,000</td>\n",
       "      <td>3bed</td>\n",
       "      <td>3.5bath</td>\n",
       "      <td>None</td>\n",
       "      <td>4.59acre lot</td>\n",
       "      <td>40.725571</td>\n",
       "      <td>-73.640160</td>\n",
       "    </tr>\n",
       "    <tr>\n",
       "      <th>19</th>\n",
       "      <td>142 Cherry Valley Ave, Garden City, NY 11530</td>\n",
       "      <td>$2,599,000</td>\n",
       "      <td>4bed</td>\n",
       "      <td>3.5+bath</td>\n",
       "      <td>None</td>\n",
       "      <td>0.53acre lot</td>\n",
       "      <td>40.730982</td>\n",
       "      <td>-73.642354</td>\n",
       "    </tr>\n",
       "    <tr>\n",
       "      <th>20</th>\n",
       "      <td>111 Cherry Valley Ave Apt 908, Garden City, NY...</td>\n",
       "      <td>$799,000</td>\n",
       "      <td>1bed</td>\n",
       "      <td>1.5bath</td>\n",
       "      <td>1,120sqft</td>\n",
       "      <td>7.9acre lot</td>\n",
       "      <td>40.725447</td>\n",
       "      <td>-73.641444</td>\n",
       "    </tr>\n",
       "    <tr>\n",
       "      <th>21</th>\n",
       "      <td>107 15th St Apt E2, Garden City, NY 11530</td>\n",
       "      <td>$389,000</td>\n",
       "      <td>2bed</td>\n",
       "      <td>1bath</td>\n",
       "      <td>None</td>\n",
       "      <td>None</td>\n",
       "      <td>40.736747</td>\n",
       "      <td>-73.643763</td>\n",
       "    </tr>\n",
       "    <tr>\n",
       "      <th>22</th>\n",
       "      <td>99 7th St Apt 3F, Garden City, NY 11530</td>\n",
       "      <td>$949,000</td>\n",
       "      <td>3bed</td>\n",
       "      <td>2bath</td>\n",
       "      <td>1,465sqft</td>\n",
       "      <td>0.63acre lot</td>\n",
       "      <td>40.724908</td>\n",
       "      <td>-73.637161</td>\n",
       "    </tr>\n",
       "    <tr>\n",
       "      <th>23</th>\n",
       "      <td>25 St Paul Cres, Garden City, NY 11530</td>\n",
       "      <td>$1,275,000</td>\n",
       "      <td>3bed</td>\n",
       "      <td>2bath</td>\n",
       "      <td>None</td>\n",
       "      <td>0.3acre lot</td>\n",
       "      <td>NaN</td>\n",
       "      <td>NaN</td>\n",
       "    </tr>\n",
       "    <tr>\n",
       "      <th>24</th>\n",
       "      <td>67 3rd St, Garden City, NY 11530</td>\n",
       "      <td>$6,999,999</td>\n",
       "      <td>5bed</td>\n",
       "      <td>6.5+bath</td>\n",
       "      <td>12,446sqft</td>\n",
       "      <td>0.57acre lot</td>\n",
       "      <td>40.717559</td>\n",
       "      <td>-73.642255</td>\n",
       "    </tr>\n",
       "    <tr>\n",
       "      <th>25</th>\n",
       "      <td>143 Cambridge Ave, Garden City, NY 11530</td>\n",
       "      <td>$1,348,000</td>\n",
       "      <td>5bed</td>\n",
       "      <td>3bath</td>\n",
       "      <td>None</td>\n",
       "      <td>0.29acre lot</td>\n",
       "      <td>40.717812</td>\n",
       "      <td>-73.656315</td>\n",
       "    </tr>\n",
       "    <tr>\n",
       "      <th>26</th>\n",
       "      <td>148 Washington Ave, Garden City, NY 11530</td>\n",
       "      <td>$1,499,000</td>\n",
       "      <td>4bed</td>\n",
       "      <td>2.5bath</td>\n",
       "      <td>3,000sqft</td>\n",
       "      <td>9,375sqft lot</td>\n",
       "      <td>40.732064</td>\n",
       "      <td>-73.630346</td>\n",
       "    </tr>\n",
       "    <tr>\n",
       "      <th>27</th>\n",
       "      <td>108 Tanners Pond Rd, Garden City, NY 11530</td>\n",
       "      <td>$998,000</td>\n",
       "      <td>3bed</td>\n",
       "      <td>2.5bath</td>\n",
       "      <td>1,599sqft</td>\n",
       "      <td>8,999sqft lot</td>\n",
       "      <td>40.725513</td>\n",
       "      <td>-73.671947</td>\n",
       "    </tr>\n",
       "    <tr>\n",
       "      <th>28</th>\n",
       "      <td>74 Kilburn Rd, Garden City, NY 11530</td>\n",
       "      <td>$959,900</td>\n",
       "      <td>4bed</td>\n",
       "      <td>2.5bath</td>\n",
       "      <td>3,510sqft</td>\n",
       "      <td>8,000sqft lot</td>\n",
       "      <td>40.723272</td>\n",
       "      <td>-73.659873</td>\n",
       "    </tr>\n",
       "    <tr>\n",
       "      <th>29</th>\n",
       "      <td>72 Bromleigh Rd, Stewart Manor, NY 11530</td>\n",
       "      <td>$575,000</td>\n",
       "      <td>3bed</td>\n",
       "      <td>1bath</td>\n",
       "      <td>1,354sqft</td>\n",
       "      <td>5,000sqft lot</td>\n",
       "      <td>40.721016</td>\n",
       "      <td>-73.686659</td>\n",
       "    </tr>\n",
       "    <tr>\n",
       "      <th>30</th>\n",
       "      <td>134 Kildare Rd, Garden City, NY 11530</td>\n",
       "      <td>$1,100,000</td>\n",
       "      <td>6bed</td>\n",
       "      <td>3bath</td>\n",
       "      <td>None</td>\n",
       "      <td>6,600sqft lot</td>\n",
       "      <td>40.727720</td>\n",
       "      <td>-73.667805</td>\n",
       "    </tr>\n",
       "    <tr>\n",
       "      <th>31</th>\n",
       "      <td>180 Nassau Blvd, Garden City, NY 11530</td>\n",
       "      <td>$1,250,000</td>\n",
       "      <td>3bed</td>\n",
       "      <td>2.5bath</td>\n",
       "      <td>None</td>\n",
       "      <td>0.48acre lot</td>\n",
       "      <td>40.731326</td>\n",
       "      <td>-73.661165</td>\n",
       "    </tr>\n",
       "    <tr>\n",
       "      <th>32</th>\n",
       "      <td>113 4th St, Garden City, NY 11530</td>\n",
       "      <td>$1,599,000</td>\n",
       "      <td>6bed</td>\n",
       "      <td>3.5bath</td>\n",
       "      <td>3,000sqft</td>\n",
       "      <td>0.43acre lot</td>\n",
       "      <td>40.720894</td>\n",
       "      <td>-73.634616</td>\n",
       "    </tr>\n",
       "    <tr>\n",
       "      <th>33</th>\n",
       "      <td>100 Hilton Ave Unit M25, Garden City, NY 11530</td>\n",
       "      <td>$659,000</td>\n",
       "      <td>1bed</td>\n",
       "      <td>1.5bath</td>\n",
       "      <td>None</td>\n",
       "      <td>4.59acre lot</td>\n",
       "      <td>40.725571</td>\n",
       "      <td>-73.640160</td>\n",
       "    </tr>\n",
       "    <tr>\n",
       "      <th>34</th>\n",
       "      <td>24 Cathedral Ave, Garden City, NY 11530</td>\n",
       "      <td>$2,999,988</td>\n",
       "      <td>6bed</td>\n",
       "      <td>4.5bath</td>\n",
       "      <td>None</td>\n",
       "      <td>1.43acre lot</td>\n",
       "      <td>40.717156</td>\n",
       "      <td>-73.640291</td>\n",
       "    </tr>\n",
       "    <tr>\n",
       "      <th>35</th>\n",
       "      <td>36 Hamilton Pl Apt B2, Garden City, NY 11530</td>\n",
       "      <td>$379,000</td>\n",
       "      <td>1bed</td>\n",
       "      <td>1bath</td>\n",
       "      <td>950sqft</td>\n",
       "      <td>None</td>\n",
       "      <td>40.718260</td>\n",
       "      <td>-73.632383</td>\n",
       "    </tr>\n",
       "    <tr>\n",
       "      <th>36</th>\n",
       "      <td>119 Fifteenth St Unit G2, Garden City, NY 11530</td>\n",
       "      <td>$249,000</td>\n",
       "      <td>1bed</td>\n",
       "      <td>1bath</td>\n",
       "      <td>None</td>\n",
       "      <td>None</td>\n",
       "      <td>NaN</td>\n",
       "      <td>NaN</td>\n",
       "    </tr>\n",
       "    <tr>\n",
       "      <th>37</th>\n",
       "      <td>100 Hilton Ave Unit M5, Garden City, NY 11530</td>\n",
       "      <td>$670,000</td>\n",
       "      <td>1bed</td>\n",
       "      <td>1.5bath</td>\n",
       "      <td>1,190sqft</td>\n",
       "      <td>4.59acre lot</td>\n",
       "      <td>40.725571</td>\n",
       "      <td>-73.640160</td>\n",
       "    </tr>\n",
       "    <tr>\n",
       "      <th>38</th>\n",
       "      <td>176 Brixton Rd S, Garden City South, NY 11530</td>\n",
       "      <td>$798,888</td>\n",
       "      <td>4bed</td>\n",
       "      <td>2.5bath</td>\n",
       "      <td>1,785sqft</td>\n",
       "      <td>5,000sqft lot</td>\n",
       "      <td>40.711409</td>\n",
       "      <td>-73.658961</td>\n",
       "    </tr>\n",
       "    <tr>\n",
       "      <th>39</th>\n",
       "      <td>6 Covert Ave, Garden City, NY 11530</td>\n",
       "      <td>$725,000</td>\n",
       "      <td>4bed</td>\n",
       "      <td>1.5bath</td>\n",
       "      <td>None</td>\n",
       "      <td>4,242sqft lot</td>\n",
       "      <td>40.724447</td>\n",
       "      <td>-73.687299</td>\n",
       "    </tr>\n",
       "    <tr>\n",
       "      <th>40</th>\n",
       "      <td>11 East Dr, Garden City, NY 11530</td>\n",
       "      <td>$1,129,000</td>\n",
       "      <td>3bed</td>\n",
       "      <td>2bath</td>\n",
       "      <td>None</td>\n",
       "      <td>8,125sqft lot</td>\n",
       "      <td>40.738841</td>\n",
       "      <td>-73.618442</td>\n",
       "    </tr>\n",
       "    <tr>\n",
       "      <th>41</th>\n",
       "      <td>89 3rd St, Garden City, NY 11530</td>\n",
       "      <td>$2,850,000</td>\n",
       "      <td>5bed</td>\n",
       "      <td>3.5bath</td>\n",
       "      <td>4,100sqft</td>\n",
       "      <td>0.57acre lot</td>\n",
       "      <td>40.718501</td>\n",
       "      <td>-73.637874</td>\n",
       "    </tr>\n",
       "  </tbody>\n",
       "</table>\n",
       "</div>"
      ],
      "text/plain": [
       "                                              Address      Prices     Bed  \\\n",
       "0             237 Dover Pkwy, Stewart Manor, NY 11530    $649,000    4bed   \n",
       "1                 96 Willow St, Garden City, NY 11530    $998,000    3bed   \n",
       "2           91 Cambridge Ave, Stewart Manor, NY 11530    $729,000    3bed   \n",
       "3                  17 Wyatt Rd, Garden City, NY 11530  $1,349,000    4bed   \n",
       "4         281 New Hyde Park Rd, Garden City, NY 11530    $849,000    3bed   \n",
       "5      366 Stewart Ave Apt B11, Garden City, NY 11530    $249,000  Studio   \n",
       "6           148 Bromleigh Rd, Stewart Manor, NY 11530    $879,000    3bed   \n",
       "7         259 New Hyde Park Rd, Garden City, NY 11530    $829,000    3bed   \n",
       "8         125 Second St Unit J, Garden City, NY 11530    $228,000  Studio   \n",
       "9                36 Maxwell Rd, Garden City, NY 11530  $1,198,888    5bed   \n",
       "10      361 Kilburn Rd S, Garden City South, NY 11530    $779,000    3bed   \n",
       "11             151 Weyford Ter, Garden City, NY 11530  $1,250,000    4bed   \n",
       "12               7 Carteret Pl, Garden City, NY 11530  $5,999,000    8bed   \n",
       "13              157 Elton Rd, Stewart Manor, NY 11530    $829,000    3bed   \n",
       "14               107 Meadow St, Garden City, NY 11530  $1,185,000    4bed   \n",
       "15     100 Hilton Ave Unit M29, Garden City, NY 11530  $1,599,000    3bed   \n",
       "16             40 Bayberry Ave, Garden City, NY 11530    $998,000    3bed   \n",
       "17                12 Warton Pl, Garden City, NY 11530  $1,699,000    5bed   \n",
       "18     100 Hilton Ave Unit M12, Garden City, NY 11530  $1,099,000    3bed   \n",
       "19       142 Cherry Valley Ave, Garden City, NY 11530  $2,599,000    4bed   \n",
       "20  111 Cherry Valley Ave Apt 908, Garden City, NY...    $799,000    1bed   \n",
       "21          107 15th St Apt E2, Garden City, NY 11530    $389,000    2bed   \n",
       "22            99 7th St Apt 3F, Garden City, NY 11530    $949,000    3bed   \n",
       "23             25 St Paul Cres, Garden City, NY 11530  $1,275,000    3bed   \n",
       "24                   67 3rd St, Garden City, NY 11530  $6,999,999    5bed   \n",
       "25           143 Cambridge Ave, Garden City, NY 11530  $1,348,000    5bed   \n",
       "26          148 Washington Ave, Garden City, NY 11530  $1,499,000    4bed   \n",
       "27         108 Tanners Pond Rd, Garden City, NY 11530    $998,000    3bed   \n",
       "28               74 Kilburn Rd, Garden City, NY 11530    $959,900    4bed   \n",
       "29           72 Bromleigh Rd, Stewart Manor, NY 11530    $575,000    3bed   \n",
       "30              134 Kildare Rd, Garden City, NY 11530  $1,100,000    6bed   \n",
       "31             180 Nassau Blvd, Garden City, NY 11530  $1,250,000    3bed   \n",
       "32                  113 4th St, Garden City, NY 11530  $1,599,000    6bed   \n",
       "33     100 Hilton Ave Unit M25, Garden City, NY 11530    $659,000    1bed   \n",
       "34            24 Cathedral Ave, Garden City, NY 11530  $2,999,988    6bed   \n",
       "35       36 Hamilton Pl Apt B2, Garden City, NY 11530    $379,000    1bed   \n",
       "36    119 Fifteenth St Unit G2, Garden City, NY 11530    $249,000    1bed   \n",
       "37      100 Hilton Ave Unit M5, Garden City, NY 11530    $670,000    1bed   \n",
       "38      176 Brixton Rd S, Garden City South, NY 11530    $798,888    4bed   \n",
       "39                6 Covert Ave, Garden City, NY 11530    $725,000    4bed   \n",
       "40                  11 East Dr, Garden City, NY 11530  $1,129,000    3bed   \n",
       "41                   89 3rd St, Garden City, NY 11530  $2,850,000    5bed   \n",
       "\n",
       "        Bath        Sqft       Sqft Lot   Latitude  Longitude  \n",
       "0      2bath   1,910sqft   0.31acre lot  40.715970 -73.685638  \n",
       "1      2bath        None  6,000sqft lot  40.720859 -73.618847  \n",
       "2      2bath        None  7,150sqft lot  40.717224 -73.684969  \n",
       "3      3bath        None  6,100sqft lot  40.733156 -73.628878  \n",
       "4    2.5bath        None  7,000sqft lot  40.729491 -73.678791  \n",
       "5      1bath        None           None  40.726393 -73.632735  \n",
       "6      2bath   1,711sqft  5,000sqft lot  40.718799 -73.686790  \n",
       "7    1.5bath        None  4,000sqft lot  40.728478 -73.678837  \n",
       "8      1bath        None           None        NaN        NaN  \n",
       "9    2.5bath   2,479sqft  7,000sqft lot  40.738526 -73.624819  \n",
       "10     2bath   1,808sqft  6,000sqft lot  40.716519 -73.660312  \n",
       "11   3.5bath        None  8,250sqft lot  40.729378 -73.665291  \n",
       "12  7.5+bath  17,500sqft   0.99acre lot  40.729849 -73.644187  \n",
       "13     2bath   1,673sqft  5,000sqft lot  40.718518 -73.684475  \n",
       "14   3.5bath   2,450sqft  8,300sqft lot  40.720616 -73.618743  \n",
       "15   3.5bath   2,249sqft   4.59acre lot  40.725571 -73.640160  \n",
       "16   2.5bath        None   0.23acre lot  40.738622 -73.629568  \n",
       "17  5.5+bath   4,065sqft   0.46acre lot  40.729917 -73.629724  \n",
       "18   3.5bath        None   4.59acre lot  40.725571 -73.640160  \n",
       "19  3.5+bath        None   0.53acre lot  40.730982 -73.642354  \n",
       "20   1.5bath   1,120sqft    7.9acre lot  40.725447 -73.641444  \n",
       "21     1bath        None           None  40.736747 -73.643763  \n",
       "22     2bath   1,465sqft   0.63acre lot  40.724908 -73.637161  \n",
       "23     2bath        None    0.3acre lot        NaN        NaN  \n",
       "24  6.5+bath  12,446sqft   0.57acre lot  40.717559 -73.642255  \n",
       "25     3bath        None   0.29acre lot  40.717812 -73.656315  \n",
       "26   2.5bath   3,000sqft  9,375sqft lot  40.732064 -73.630346  \n",
       "27   2.5bath   1,599sqft  8,999sqft lot  40.725513 -73.671947  \n",
       "28   2.5bath   3,510sqft  8,000sqft lot  40.723272 -73.659873  \n",
       "29     1bath   1,354sqft  5,000sqft lot  40.721016 -73.686659  \n",
       "30     3bath        None  6,600sqft lot  40.727720 -73.667805  \n",
       "31   2.5bath        None   0.48acre lot  40.731326 -73.661165  \n",
       "32   3.5bath   3,000sqft   0.43acre lot  40.720894 -73.634616  \n",
       "33   1.5bath        None   4.59acre lot  40.725571 -73.640160  \n",
       "34   4.5bath        None   1.43acre lot  40.717156 -73.640291  \n",
       "35     1bath     950sqft           None  40.718260 -73.632383  \n",
       "36     1bath        None           None        NaN        NaN  \n",
       "37   1.5bath   1,190sqft   4.59acre lot  40.725571 -73.640160  \n",
       "38   2.5bath   1,785sqft  5,000sqft lot  40.711409 -73.658961  \n",
       "39   1.5bath        None  4,242sqft lot  40.724447 -73.687299  \n",
       "40     2bath        None  8,125sqft lot  40.738841 -73.618442  \n",
       "41   3.5bath   4,100sqft   0.57acre lot  40.718501 -73.637874  "
      ]
     },
     "execution_count": 9,
     "metadata": {},
     "output_type": "execute_result"
    }
   ],
   "source": [
    "df"
   ]
  },
  {
   "cell_type": "code",
   "execution_count": 8,
   "metadata": {
    "scrolled": false
   },
   "outputs": [
    {
     "data": {
      "application/vnd.plotly.v1+json": {
       "config": {
        "plotlyServerURL": "https://plot.ly"
       },
       "data": [
        {
         "hovertemplate": "<b>%{hovertext}</b><br><br>Latitude=%{lat}<br>Longitude=%{lon}<extra></extra>",
         "hovertext": [
          "237 Dover Pkwy, Stewart Manor, NY 11530",
          "96 Willow St, Garden City, NY 11530",
          "91 Cambridge Ave, Stewart Manor, NY 11530",
          "17 Wyatt Rd, Garden City, NY 11530",
          "281 New Hyde Park Rd, Garden City, NY 11530",
          "366 Stewart Ave Apt B11, Garden City, NY 11530",
          "148 Bromleigh Rd, Stewart Manor, NY 11530",
          "259 New Hyde Park Rd, Garden City, NY 11530",
          "125 Second St Unit J, Garden City, NY 11530",
          "36 Maxwell Rd, Garden City, NY 11530",
          "361 Kilburn Rd S, Garden City South, NY 11530",
          "151 Weyford Ter, Garden City, NY 11530",
          "7 Carteret Pl, Garden City, NY 11530",
          "157 Elton Rd, Stewart Manor, NY 11530",
          "107 Meadow St, Garden City, NY 11530",
          "100 Hilton Ave Unit M29, Garden City, NY 11530",
          "40 Bayberry Ave, Garden City, NY 11530",
          "12 Warton Pl, Garden City, NY 11530",
          "100 Hilton Ave Unit M12, Garden City, NY 11530",
          "142 Cherry Valley Ave, Garden City, NY 11530",
          "111 Cherry Valley Ave Apt 908, Garden City, NY 11530",
          "107 15th St Apt E2, Garden City, NY 11530",
          "99 7th St Apt 3F, Garden City, NY 11530",
          "25 St Paul Cres, Garden City, NY 11530",
          "67 3rd St, Garden City, NY 11530",
          "143 Cambridge Ave, Garden City, NY 11530",
          "148 Washington Ave, Garden City, NY 11530",
          "108 Tanners Pond Rd, Garden City, NY 11530",
          "74 Kilburn Rd, Garden City, NY 11530",
          "72 Bromleigh Rd, Stewart Manor, NY 11530",
          "134 Kildare Rd, Garden City, NY 11530",
          "180 Nassau Blvd, Garden City, NY 11530",
          "113 4th St, Garden City, NY 11530",
          "100 Hilton Ave Unit M25, Garden City, NY 11530",
          "24 Cathedral Ave, Garden City, NY 11530",
          "36 Hamilton Pl Apt B2, Garden City, NY 11530",
          "119 Fifteenth St Unit G2, Garden City, NY 11530",
          "100 Hilton Ave Unit M5, Garden City, NY 11530",
          "176 Brixton Rd S, Garden City South, NY 11530",
          "6 Covert Ave, Garden City, NY 11530",
          "11 East Dr, Garden City, NY 11530",
          "89 3rd St, Garden City, NY 11530"
         ],
         "lat": [
          40.7159697,
          40.72085865,
          40.7172242,
          40.733156199999996,
          40.7294908,
          40.7263934,
          40.7187991,
          40.728477600000005,
          null,
          40.7385256,
          40.71651895,
          40.7293779,
          40.729848950000004,
          40.7185176,
          40.72061565,
          40.7255708,
          40.7386222,
          40.7299169,
          40.7255708,
          40.730982,
          40.7254466,
          40.7367475,
          40.724908400000004,
          null,
          40.71755925,
          40.71781225,
          40.732063749999995,
          40.7255132,
          40.723271600000004,
          40.7210164,
          40.7277201,
          40.7313256,
          40.720894,
          40.7255708,
          40.71715555,
          40.71826,
          null,
          40.7255708,
          40.71140925,
          40.72444725,
          40.7388407,
          40.7185014
         ],
         "legendgroup": "",
         "lon": [
          -73.6856378,
          -73.61884699999999,
          -73.6849692,
          -73.62887790970308,
          -73.6787906,
          -73.63273450421657,
          -73.6867899,
          -73.67883702600521,
          null,
          -73.6248187,
          -73.66031190790366,
          -73.6652915,
          -73.6441872749129,
          -73.6844748,
          -73.61874261310649,
          -73.6401605,
          -73.629568,
          -73.62972365231303,
          -73.6401605,
          -73.64235354852121,
          -73.6414439,
          -73.6437631,
          -73.63716127753283,
          null,
          -73.64225457528848,
          -73.6563145590611,
          -73.630345943459,
          -73.6719473,
          -73.65987340000001,
          -73.6866591,
          -73.6678045,
          -73.6611649,
          -73.63461603669332,
          -73.6401605,
          -73.64029109249401,
          -73.6323834,
          null,
          -73.6401605,
          -73.65896070034213,
          -73.68729880000001,
          -73.618442,
          -73.63787420594797
         ],
         "marker": {
          "color": "fuchsia"
         },
         "mode": "markers",
         "name": "",
         "showlegend": false,
         "subplot": "mapbox",
         "type": "scattermapbox"
        }
       ],
       "layout": {
        "height": 300,
        "legend": {
         "tracegroupgap": 0
        },
        "mapbox": {
         "center": {
          "lat": 40.7268,
          "lon": -73.6343
         },
         "domain": {
          "x": [
           0,
           1
          ],
          "y": [
           0,
           1
          ]
         },
         "style": "stamen-terrain",
         "zoom": 11
        },
        "margin": {
         "b": 0,
         "l": 0,
         "r": 0,
         "t": 0
        },
        "template": {
         "data": {
          "bar": [
           {
            "error_x": {
             "color": "#2a3f5f"
            },
            "error_y": {
             "color": "#2a3f5f"
            },
            "marker": {
             "line": {
              "color": "#E5ECF6",
              "width": 0.5
             },
             "pattern": {
              "fillmode": "overlay",
              "size": 10,
              "solidity": 0.2
             }
            },
            "type": "bar"
           }
          ],
          "barpolar": [
           {
            "marker": {
             "line": {
              "color": "#E5ECF6",
              "width": 0.5
             },
             "pattern": {
              "fillmode": "overlay",
              "size": 10,
              "solidity": 0.2
             }
            },
            "type": "barpolar"
           }
          ],
          "carpet": [
           {
            "aaxis": {
             "endlinecolor": "#2a3f5f",
             "gridcolor": "white",
             "linecolor": "white",
             "minorgridcolor": "white",
             "startlinecolor": "#2a3f5f"
            },
            "baxis": {
             "endlinecolor": "#2a3f5f",
             "gridcolor": "white",
             "linecolor": "white",
             "minorgridcolor": "white",
             "startlinecolor": "#2a3f5f"
            },
            "type": "carpet"
           }
          ],
          "choropleth": [
           {
            "colorbar": {
             "outlinewidth": 0,
             "ticks": ""
            },
            "type": "choropleth"
           }
          ],
          "contour": [
           {
            "colorbar": {
             "outlinewidth": 0,
             "ticks": ""
            },
            "colorscale": [
             [
              0,
              "#0d0887"
             ],
             [
              0.1111111111111111,
              "#46039f"
             ],
             [
              0.2222222222222222,
              "#7201a8"
             ],
             [
              0.3333333333333333,
              "#9c179e"
             ],
             [
              0.4444444444444444,
              "#bd3786"
             ],
             [
              0.5555555555555556,
              "#d8576b"
             ],
             [
              0.6666666666666666,
              "#ed7953"
             ],
             [
              0.7777777777777778,
              "#fb9f3a"
             ],
             [
              0.8888888888888888,
              "#fdca26"
             ],
             [
              1,
              "#f0f921"
             ]
            ],
            "type": "contour"
           }
          ],
          "contourcarpet": [
           {
            "colorbar": {
             "outlinewidth": 0,
             "ticks": ""
            },
            "type": "contourcarpet"
           }
          ],
          "heatmap": [
           {
            "colorbar": {
             "outlinewidth": 0,
             "ticks": ""
            },
            "colorscale": [
             [
              0,
              "#0d0887"
             ],
             [
              0.1111111111111111,
              "#46039f"
             ],
             [
              0.2222222222222222,
              "#7201a8"
             ],
             [
              0.3333333333333333,
              "#9c179e"
             ],
             [
              0.4444444444444444,
              "#bd3786"
             ],
             [
              0.5555555555555556,
              "#d8576b"
             ],
             [
              0.6666666666666666,
              "#ed7953"
             ],
             [
              0.7777777777777778,
              "#fb9f3a"
             ],
             [
              0.8888888888888888,
              "#fdca26"
             ],
             [
              1,
              "#f0f921"
             ]
            ],
            "type": "heatmap"
           }
          ],
          "heatmapgl": [
           {
            "colorbar": {
             "outlinewidth": 0,
             "ticks": ""
            },
            "colorscale": [
             [
              0,
              "#0d0887"
             ],
             [
              0.1111111111111111,
              "#46039f"
             ],
             [
              0.2222222222222222,
              "#7201a8"
             ],
             [
              0.3333333333333333,
              "#9c179e"
             ],
             [
              0.4444444444444444,
              "#bd3786"
             ],
             [
              0.5555555555555556,
              "#d8576b"
             ],
             [
              0.6666666666666666,
              "#ed7953"
             ],
             [
              0.7777777777777778,
              "#fb9f3a"
             ],
             [
              0.8888888888888888,
              "#fdca26"
             ],
             [
              1,
              "#f0f921"
             ]
            ],
            "type": "heatmapgl"
           }
          ],
          "histogram": [
           {
            "marker": {
             "pattern": {
              "fillmode": "overlay",
              "size": 10,
              "solidity": 0.2
             }
            },
            "type": "histogram"
           }
          ],
          "histogram2d": [
           {
            "colorbar": {
             "outlinewidth": 0,
             "ticks": ""
            },
            "colorscale": [
             [
              0,
              "#0d0887"
             ],
             [
              0.1111111111111111,
              "#46039f"
             ],
             [
              0.2222222222222222,
              "#7201a8"
             ],
             [
              0.3333333333333333,
              "#9c179e"
             ],
             [
              0.4444444444444444,
              "#bd3786"
             ],
             [
              0.5555555555555556,
              "#d8576b"
             ],
             [
              0.6666666666666666,
              "#ed7953"
             ],
             [
              0.7777777777777778,
              "#fb9f3a"
             ],
             [
              0.8888888888888888,
              "#fdca26"
             ],
             [
              1,
              "#f0f921"
             ]
            ],
            "type": "histogram2d"
           }
          ],
          "histogram2dcontour": [
           {
            "colorbar": {
             "outlinewidth": 0,
             "ticks": ""
            },
            "colorscale": [
             [
              0,
              "#0d0887"
             ],
             [
              0.1111111111111111,
              "#46039f"
             ],
             [
              0.2222222222222222,
              "#7201a8"
             ],
             [
              0.3333333333333333,
              "#9c179e"
             ],
             [
              0.4444444444444444,
              "#bd3786"
             ],
             [
              0.5555555555555556,
              "#d8576b"
             ],
             [
              0.6666666666666666,
              "#ed7953"
             ],
             [
              0.7777777777777778,
              "#fb9f3a"
             ],
             [
              0.8888888888888888,
              "#fdca26"
             ],
             [
              1,
              "#f0f921"
             ]
            ],
            "type": "histogram2dcontour"
           }
          ],
          "mesh3d": [
           {
            "colorbar": {
             "outlinewidth": 0,
             "ticks": ""
            },
            "type": "mesh3d"
           }
          ],
          "parcoords": [
           {
            "line": {
             "colorbar": {
              "outlinewidth": 0,
              "ticks": ""
             }
            },
            "type": "parcoords"
           }
          ],
          "pie": [
           {
            "automargin": true,
            "type": "pie"
           }
          ],
          "scatter": [
           {
            "fillpattern": {
             "fillmode": "overlay",
             "size": 10,
             "solidity": 0.2
            },
            "type": "scatter"
           }
          ],
          "scatter3d": [
           {
            "line": {
             "colorbar": {
              "outlinewidth": 0,
              "ticks": ""
             }
            },
            "marker": {
             "colorbar": {
              "outlinewidth": 0,
              "ticks": ""
             }
            },
            "type": "scatter3d"
           }
          ],
          "scattercarpet": [
           {
            "marker": {
             "colorbar": {
              "outlinewidth": 0,
              "ticks": ""
             }
            },
            "type": "scattercarpet"
           }
          ],
          "scattergeo": [
           {
            "marker": {
             "colorbar": {
              "outlinewidth": 0,
              "ticks": ""
             }
            },
            "type": "scattergeo"
           }
          ],
          "scattergl": [
           {
            "marker": {
             "colorbar": {
              "outlinewidth": 0,
              "ticks": ""
             }
            },
            "type": "scattergl"
           }
          ],
          "scattermapbox": [
           {
            "marker": {
             "colorbar": {
              "outlinewidth": 0,
              "ticks": ""
             }
            },
            "type": "scattermapbox"
           }
          ],
          "scatterpolar": [
           {
            "marker": {
             "colorbar": {
              "outlinewidth": 0,
              "ticks": ""
             }
            },
            "type": "scatterpolar"
           }
          ],
          "scatterpolargl": [
           {
            "marker": {
             "colorbar": {
              "outlinewidth": 0,
              "ticks": ""
             }
            },
            "type": "scatterpolargl"
           }
          ],
          "scatterternary": [
           {
            "marker": {
             "colorbar": {
              "outlinewidth": 0,
              "ticks": ""
             }
            },
            "type": "scatterternary"
           }
          ],
          "surface": [
           {
            "colorbar": {
             "outlinewidth": 0,
             "ticks": ""
            },
            "colorscale": [
             [
              0,
              "#0d0887"
             ],
             [
              0.1111111111111111,
              "#46039f"
             ],
             [
              0.2222222222222222,
              "#7201a8"
             ],
             [
              0.3333333333333333,
              "#9c179e"
             ],
             [
              0.4444444444444444,
              "#bd3786"
             ],
             [
              0.5555555555555556,
              "#d8576b"
             ],
             [
              0.6666666666666666,
              "#ed7953"
             ],
             [
              0.7777777777777778,
              "#fb9f3a"
             ],
             [
              0.8888888888888888,
              "#fdca26"
             ],
             [
              1,
              "#f0f921"
             ]
            ],
            "type": "surface"
           }
          ],
          "table": [
           {
            "cells": {
             "fill": {
              "color": "#EBF0F8"
             },
             "line": {
              "color": "white"
             }
            },
            "header": {
             "fill": {
              "color": "#C8D4E3"
             },
             "line": {
              "color": "white"
             }
            },
            "type": "table"
           }
          ]
         },
         "layout": {
          "annotationdefaults": {
           "arrowcolor": "#2a3f5f",
           "arrowhead": 0,
           "arrowwidth": 1
          },
          "autotypenumbers": "strict",
          "coloraxis": {
           "colorbar": {
            "outlinewidth": 0,
            "ticks": ""
           }
          },
          "colorscale": {
           "diverging": [
            [
             0,
             "#8e0152"
            ],
            [
             0.1,
             "#c51b7d"
            ],
            [
             0.2,
             "#de77ae"
            ],
            [
             0.3,
             "#f1b6da"
            ],
            [
             0.4,
             "#fde0ef"
            ],
            [
             0.5,
             "#f7f7f7"
            ],
            [
             0.6,
             "#e6f5d0"
            ],
            [
             0.7,
             "#b8e186"
            ],
            [
             0.8,
             "#7fbc41"
            ],
            [
             0.9,
             "#4d9221"
            ],
            [
             1,
             "#276419"
            ]
           ],
           "sequential": [
            [
             0,
             "#0d0887"
            ],
            [
             0.1111111111111111,
             "#46039f"
            ],
            [
             0.2222222222222222,
             "#7201a8"
            ],
            [
             0.3333333333333333,
             "#9c179e"
            ],
            [
             0.4444444444444444,
             "#bd3786"
            ],
            [
             0.5555555555555556,
             "#d8576b"
            ],
            [
             0.6666666666666666,
             "#ed7953"
            ],
            [
             0.7777777777777778,
             "#fb9f3a"
            ],
            [
             0.8888888888888888,
             "#fdca26"
            ],
            [
             1,
             "#f0f921"
            ]
           ],
           "sequentialminus": [
            [
             0,
             "#0d0887"
            ],
            [
             0.1111111111111111,
             "#46039f"
            ],
            [
             0.2222222222222222,
             "#7201a8"
            ],
            [
             0.3333333333333333,
             "#9c179e"
            ],
            [
             0.4444444444444444,
             "#bd3786"
            ],
            [
             0.5555555555555556,
             "#d8576b"
            ],
            [
             0.6666666666666666,
             "#ed7953"
            ],
            [
             0.7777777777777778,
             "#fb9f3a"
            ],
            [
             0.8888888888888888,
             "#fdca26"
            ],
            [
             1,
             "#f0f921"
            ]
           ]
          },
          "colorway": [
           "#636efa",
           "#EF553B",
           "#00cc96",
           "#ab63fa",
           "#FFA15A",
           "#19d3f3",
           "#FF6692",
           "#B6E880",
           "#FF97FF",
           "#FECB52"
          ],
          "font": {
           "color": "#2a3f5f"
          },
          "geo": {
           "bgcolor": "white",
           "lakecolor": "white",
           "landcolor": "#E5ECF6",
           "showlakes": true,
           "showland": true,
           "subunitcolor": "white"
          },
          "hoverlabel": {
           "align": "left"
          },
          "hovermode": "closest",
          "mapbox": {
           "style": "light"
          },
          "paper_bgcolor": "white",
          "plot_bgcolor": "#E5ECF6",
          "polar": {
           "angularaxis": {
            "gridcolor": "white",
            "linecolor": "white",
            "ticks": ""
           },
           "bgcolor": "#E5ECF6",
           "radialaxis": {
            "gridcolor": "white",
            "linecolor": "white",
            "ticks": ""
           }
          },
          "scene": {
           "xaxis": {
            "backgroundcolor": "#E5ECF6",
            "gridcolor": "white",
            "gridwidth": 2,
            "linecolor": "white",
            "showbackground": true,
            "ticks": "",
            "zerolinecolor": "white"
           },
           "yaxis": {
            "backgroundcolor": "#E5ECF6",
            "gridcolor": "white",
            "gridwidth": 2,
            "linecolor": "white",
            "showbackground": true,
            "ticks": "",
            "zerolinecolor": "white"
           },
           "zaxis": {
            "backgroundcolor": "#E5ECF6",
            "gridcolor": "white",
            "gridwidth": 2,
            "linecolor": "white",
            "showbackground": true,
            "ticks": "",
            "zerolinecolor": "white"
           }
          },
          "shapedefaults": {
           "line": {
            "color": "#2a3f5f"
           }
          },
          "ternary": {
           "aaxis": {
            "gridcolor": "white",
            "linecolor": "white",
            "ticks": ""
           },
           "baxis": {
            "gridcolor": "white",
            "linecolor": "white",
            "ticks": ""
           },
           "bgcolor": "#E5ECF6",
           "caxis": {
            "gridcolor": "white",
            "linecolor": "white",
            "ticks": ""
           }
          },
          "title": {
           "x": 0.05
          },
          "xaxis": {
           "automargin": true,
           "gridcolor": "white",
           "linecolor": "white",
           "ticks": "",
           "title": {
            "standoff": 15
           },
           "zerolinecolor": "white",
           "zerolinewidth": 2
          },
          "yaxis": {
           "automargin": true,
           "gridcolor": "white",
           "linecolor": "white",
           "ticks": "",
           "title": {
            "standoff": 15
           },
           "zerolinecolor": "white",
           "zerolinewidth": 2
          }
         }
        }
       }
      },
      "text/html": [
       "<div>                            <div id=\"a028ade6-169f-4bce-a2a9-2b19a8099702\" class=\"plotly-graph-div\" style=\"height:300px; width:100%;\"></div>            <script type=\"text/javascript\">                require([\"plotly\"], function(Plotly) {                    window.PLOTLYENV=window.PLOTLYENV || {};                                    if (document.getElementById(\"a028ade6-169f-4bce-a2a9-2b19a8099702\")) {                    Plotly.newPlot(                        \"a028ade6-169f-4bce-a2a9-2b19a8099702\",                        [{\"hovertemplate\":\"<b>%{hovertext}</b><br><br>Latitude=%{lat}<br>Longitude=%{lon}<extra></extra>\",\"hovertext\":[\"237 Dover Pkwy, Stewart Manor, NY 11530\",\"96 Willow St, Garden City, NY 11530\",\"91 Cambridge Ave, Stewart Manor, NY 11530\",\"17 Wyatt Rd, Garden City, NY 11530\",\"281 New Hyde Park Rd, Garden City, NY 11530\",\"366 Stewart Ave Apt B11, Garden City, NY 11530\",\"148 Bromleigh Rd, Stewart Manor, NY 11530\",\"259 New Hyde Park Rd, Garden City, NY 11530\",\"125 Second St Unit J, Garden City, NY 11530\",\"36 Maxwell Rd, Garden City, NY 11530\",\"361 Kilburn Rd S, Garden City South, NY 11530\",\"151 Weyford Ter, Garden City, NY 11530\",\"7 Carteret Pl, Garden City, NY 11530\",\"157 Elton Rd, Stewart Manor, NY 11530\",\"107 Meadow St, Garden City, NY 11530\",\"100 Hilton Ave Unit M29, Garden City, NY 11530\",\"40 Bayberry Ave, Garden City, NY 11530\",\"12 Warton Pl, Garden City, NY 11530\",\"100 Hilton Ave Unit M12, Garden City, NY 11530\",\"142 Cherry Valley Ave, Garden City, NY 11530\",\"111 Cherry Valley Ave Apt 908, Garden City, NY 11530\",\"107 15th St Apt E2, Garden City, NY 11530\",\"99 7th St Apt 3F, Garden City, NY 11530\",\"25 St Paul Cres, Garden City, NY 11530\",\"67 3rd St, Garden City, NY 11530\",\"143 Cambridge Ave, Garden City, NY 11530\",\"148 Washington Ave, Garden City, NY 11530\",\"108 Tanners Pond Rd, Garden City, NY 11530\",\"74 Kilburn Rd, Garden City, NY 11530\",\"72 Bromleigh Rd, Stewart Manor, NY 11530\",\"134 Kildare Rd, Garden City, NY 11530\",\"180 Nassau Blvd, Garden City, NY 11530\",\"113 4th St, Garden City, NY 11530\",\"100 Hilton Ave Unit M25, Garden City, NY 11530\",\"24 Cathedral Ave, Garden City, NY 11530\",\"36 Hamilton Pl Apt B2, Garden City, NY 11530\",\"119 Fifteenth St Unit G2, Garden City, NY 11530\",\"100 Hilton Ave Unit M5, Garden City, NY 11530\",\"176 Brixton Rd S, Garden City South, NY 11530\",\"6 Covert Ave, Garden City, NY 11530\",\"11 East Dr, Garden City, NY 11530\",\"89 3rd St, Garden City, NY 11530\"],\"lat\":[40.7159697,40.72085865,40.7172242,40.733156199999996,40.7294908,40.7263934,40.7187991,40.728477600000005,null,40.7385256,40.71651895,40.7293779,40.729848950000004,40.7185176,40.72061565,40.7255708,40.7386222,40.7299169,40.7255708,40.730982,40.7254466,40.7367475,40.724908400000004,null,40.71755925,40.71781225,40.732063749999995,40.7255132,40.723271600000004,40.7210164,40.7277201,40.7313256,40.720894,40.7255708,40.71715555,40.71826,null,40.7255708,40.71140925,40.72444725,40.7388407,40.7185014],\"legendgroup\":\"\",\"lon\":[-73.6856378,-73.61884699999999,-73.6849692,-73.62887790970308,-73.6787906,-73.63273450421657,-73.6867899,-73.67883702600521,null,-73.6248187,-73.66031190790366,-73.6652915,-73.6441872749129,-73.6844748,-73.61874261310649,-73.6401605,-73.629568,-73.62972365231303,-73.6401605,-73.64235354852121,-73.6414439,-73.6437631,-73.63716127753283,null,-73.64225457528848,-73.6563145590611,-73.630345943459,-73.6719473,-73.65987340000001,-73.6866591,-73.6678045,-73.6611649,-73.63461603669332,-73.6401605,-73.64029109249401,-73.6323834,null,-73.6401605,-73.65896070034213,-73.68729880000001,-73.618442,-73.63787420594797],\"marker\":{\"color\":\"fuchsia\"},\"mode\":\"markers\",\"name\":\"\",\"showlegend\":false,\"subplot\":\"mapbox\",\"type\":\"scattermapbox\"}],                        {\"template\":{\"data\":{\"histogram2dcontour\":[{\"type\":\"histogram2dcontour\",\"colorbar\":{\"outlinewidth\":0,\"ticks\":\"\"},\"colorscale\":[[0.0,\"#0d0887\"],[0.1111111111111111,\"#46039f\"],[0.2222222222222222,\"#7201a8\"],[0.3333333333333333,\"#9c179e\"],[0.4444444444444444,\"#bd3786\"],[0.5555555555555556,\"#d8576b\"],[0.6666666666666666,\"#ed7953\"],[0.7777777777777778,\"#fb9f3a\"],[0.8888888888888888,\"#fdca26\"],[1.0,\"#f0f921\"]]}],\"choropleth\":[{\"type\":\"choropleth\",\"colorbar\":{\"outlinewidth\":0,\"ticks\":\"\"}}],\"histogram2d\":[{\"type\":\"histogram2d\",\"colorbar\":{\"outlinewidth\":0,\"ticks\":\"\"},\"colorscale\":[[0.0,\"#0d0887\"],[0.1111111111111111,\"#46039f\"],[0.2222222222222222,\"#7201a8\"],[0.3333333333333333,\"#9c179e\"],[0.4444444444444444,\"#bd3786\"],[0.5555555555555556,\"#d8576b\"],[0.6666666666666666,\"#ed7953\"],[0.7777777777777778,\"#fb9f3a\"],[0.8888888888888888,\"#fdca26\"],[1.0,\"#f0f921\"]]}],\"heatmap\":[{\"type\":\"heatmap\",\"colorbar\":{\"outlinewidth\":0,\"ticks\":\"\"},\"colorscale\":[[0.0,\"#0d0887\"],[0.1111111111111111,\"#46039f\"],[0.2222222222222222,\"#7201a8\"],[0.3333333333333333,\"#9c179e\"],[0.4444444444444444,\"#bd3786\"],[0.5555555555555556,\"#d8576b\"],[0.6666666666666666,\"#ed7953\"],[0.7777777777777778,\"#fb9f3a\"],[0.8888888888888888,\"#fdca26\"],[1.0,\"#f0f921\"]]}],\"heatmapgl\":[{\"type\":\"heatmapgl\",\"colorbar\":{\"outlinewidth\":0,\"ticks\":\"\"},\"colorscale\":[[0.0,\"#0d0887\"],[0.1111111111111111,\"#46039f\"],[0.2222222222222222,\"#7201a8\"],[0.3333333333333333,\"#9c179e\"],[0.4444444444444444,\"#bd3786\"],[0.5555555555555556,\"#d8576b\"],[0.6666666666666666,\"#ed7953\"],[0.7777777777777778,\"#fb9f3a\"],[0.8888888888888888,\"#fdca26\"],[1.0,\"#f0f921\"]]}],\"contourcarpet\":[{\"type\":\"contourcarpet\",\"colorbar\":{\"outlinewidth\":0,\"ticks\":\"\"}}],\"contour\":[{\"type\":\"contour\",\"colorbar\":{\"outlinewidth\":0,\"ticks\":\"\"},\"colorscale\":[[0.0,\"#0d0887\"],[0.1111111111111111,\"#46039f\"],[0.2222222222222222,\"#7201a8\"],[0.3333333333333333,\"#9c179e\"],[0.4444444444444444,\"#bd3786\"],[0.5555555555555556,\"#d8576b\"],[0.6666666666666666,\"#ed7953\"],[0.7777777777777778,\"#fb9f3a\"],[0.8888888888888888,\"#fdca26\"],[1.0,\"#f0f921\"]]}],\"surface\":[{\"type\":\"surface\",\"colorbar\":{\"outlinewidth\":0,\"ticks\":\"\"},\"colorscale\":[[0.0,\"#0d0887\"],[0.1111111111111111,\"#46039f\"],[0.2222222222222222,\"#7201a8\"],[0.3333333333333333,\"#9c179e\"],[0.4444444444444444,\"#bd3786\"],[0.5555555555555556,\"#d8576b\"],[0.6666666666666666,\"#ed7953\"],[0.7777777777777778,\"#fb9f3a\"],[0.8888888888888888,\"#fdca26\"],[1.0,\"#f0f921\"]]}],\"mesh3d\":[{\"type\":\"mesh3d\",\"colorbar\":{\"outlinewidth\":0,\"ticks\":\"\"}}],\"scatter\":[{\"fillpattern\":{\"fillmode\":\"overlay\",\"size\":10,\"solidity\":0.2},\"type\":\"scatter\"}],\"parcoords\":[{\"type\":\"parcoords\",\"line\":{\"colorbar\":{\"outlinewidth\":0,\"ticks\":\"\"}}}],\"scatterpolargl\":[{\"type\":\"scatterpolargl\",\"marker\":{\"colorbar\":{\"outlinewidth\":0,\"ticks\":\"\"}}}],\"bar\":[{\"error_x\":{\"color\":\"#2a3f5f\"},\"error_y\":{\"color\":\"#2a3f5f\"},\"marker\":{\"line\":{\"color\":\"#E5ECF6\",\"width\":0.5},\"pattern\":{\"fillmode\":\"overlay\",\"size\":10,\"solidity\":0.2}},\"type\":\"bar\"}],\"scattergeo\":[{\"type\":\"scattergeo\",\"marker\":{\"colorbar\":{\"outlinewidth\":0,\"ticks\":\"\"}}}],\"scatterpolar\":[{\"type\":\"scatterpolar\",\"marker\":{\"colorbar\":{\"outlinewidth\":0,\"ticks\":\"\"}}}],\"histogram\":[{\"marker\":{\"pattern\":{\"fillmode\":\"overlay\",\"size\":10,\"solidity\":0.2}},\"type\":\"histogram\"}],\"scattergl\":[{\"type\":\"scattergl\",\"marker\":{\"colorbar\":{\"outlinewidth\":0,\"ticks\":\"\"}}}],\"scatter3d\":[{\"type\":\"scatter3d\",\"line\":{\"colorbar\":{\"outlinewidth\":0,\"ticks\":\"\"}},\"marker\":{\"colorbar\":{\"outlinewidth\":0,\"ticks\":\"\"}}}],\"scattermapbox\":[{\"type\":\"scattermapbox\",\"marker\":{\"colorbar\":{\"outlinewidth\":0,\"ticks\":\"\"}}}],\"scatterternary\":[{\"type\":\"scatterternary\",\"marker\":{\"colorbar\":{\"outlinewidth\":0,\"ticks\":\"\"}}}],\"scattercarpet\":[{\"type\":\"scattercarpet\",\"marker\":{\"colorbar\":{\"outlinewidth\":0,\"ticks\":\"\"}}}],\"carpet\":[{\"aaxis\":{\"endlinecolor\":\"#2a3f5f\",\"gridcolor\":\"white\",\"linecolor\":\"white\",\"minorgridcolor\":\"white\",\"startlinecolor\":\"#2a3f5f\"},\"baxis\":{\"endlinecolor\":\"#2a3f5f\",\"gridcolor\":\"white\",\"linecolor\":\"white\",\"minorgridcolor\":\"white\",\"startlinecolor\":\"#2a3f5f\"},\"type\":\"carpet\"}],\"table\":[{\"cells\":{\"fill\":{\"color\":\"#EBF0F8\"},\"line\":{\"color\":\"white\"}},\"header\":{\"fill\":{\"color\":\"#C8D4E3\"},\"line\":{\"color\":\"white\"}},\"type\":\"table\"}],\"barpolar\":[{\"marker\":{\"line\":{\"color\":\"#E5ECF6\",\"width\":0.5},\"pattern\":{\"fillmode\":\"overlay\",\"size\":10,\"solidity\":0.2}},\"type\":\"barpolar\"}],\"pie\":[{\"automargin\":true,\"type\":\"pie\"}]},\"layout\":{\"autotypenumbers\":\"strict\",\"colorway\":[\"#636efa\",\"#EF553B\",\"#00cc96\",\"#ab63fa\",\"#FFA15A\",\"#19d3f3\",\"#FF6692\",\"#B6E880\",\"#FF97FF\",\"#FECB52\"],\"font\":{\"color\":\"#2a3f5f\"},\"hovermode\":\"closest\",\"hoverlabel\":{\"align\":\"left\"},\"paper_bgcolor\":\"white\",\"plot_bgcolor\":\"#E5ECF6\",\"polar\":{\"bgcolor\":\"#E5ECF6\",\"angularaxis\":{\"gridcolor\":\"white\",\"linecolor\":\"white\",\"ticks\":\"\"},\"radialaxis\":{\"gridcolor\":\"white\",\"linecolor\":\"white\",\"ticks\":\"\"}},\"ternary\":{\"bgcolor\":\"#E5ECF6\",\"aaxis\":{\"gridcolor\":\"white\",\"linecolor\":\"white\",\"ticks\":\"\"},\"baxis\":{\"gridcolor\":\"white\",\"linecolor\":\"white\",\"ticks\":\"\"},\"caxis\":{\"gridcolor\":\"white\",\"linecolor\":\"white\",\"ticks\":\"\"}},\"coloraxis\":{\"colorbar\":{\"outlinewidth\":0,\"ticks\":\"\"}},\"colorscale\":{\"sequential\":[[0.0,\"#0d0887\"],[0.1111111111111111,\"#46039f\"],[0.2222222222222222,\"#7201a8\"],[0.3333333333333333,\"#9c179e\"],[0.4444444444444444,\"#bd3786\"],[0.5555555555555556,\"#d8576b\"],[0.6666666666666666,\"#ed7953\"],[0.7777777777777778,\"#fb9f3a\"],[0.8888888888888888,\"#fdca26\"],[1.0,\"#f0f921\"]],\"sequentialminus\":[[0.0,\"#0d0887\"],[0.1111111111111111,\"#46039f\"],[0.2222222222222222,\"#7201a8\"],[0.3333333333333333,\"#9c179e\"],[0.4444444444444444,\"#bd3786\"],[0.5555555555555556,\"#d8576b\"],[0.6666666666666666,\"#ed7953\"],[0.7777777777777778,\"#fb9f3a\"],[0.8888888888888888,\"#fdca26\"],[1.0,\"#f0f921\"]],\"diverging\":[[0,\"#8e0152\"],[0.1,\"#c51b7d\"],[0.2,\"#de77ae\"],[0.3,\"#f1b6da\"],[0.4,\"#fde0ef\"],[0.5,\"#f7f7f7\"],[0.6,\"#e6f5d0\"],[0.7,\"#b8e186\"],[0.8,\"#7fbc41\"],[0.9,\"#4d9221\"],[1,\"#276419\"]]},\"xaxis\":{\"gridcolor\":\"white\",\"linecolor\":\"white\",\"ticks\":\"\",\"title\":{\"standoff\":15},\"zerolinecolor\":\"white\",\"automargin\":true,\"zerolinewidth\":2},\"yaxis\":{\"gridcolor\":\"white\",\"linecolor\":\"white\",\"ticks\":\"\",\"title\":{\"standoff\":15},\"zerolinecolor\":\"white\",\"automargin\":true,\"zerolinewidth\":2},\"scene\":{\"xaxis\":{\"backgroundcolor\":\"#E5ECF6\",\"gridcolor\":\"white\",\"linecolor\":\"white\",\"showbackground\":true,\"ticks\":\"\",\"zerolinecolor\":\"white\",\"gridwidth\":2},\"yaxis\":{\"backgroundcolor\":\"#E5ECF6\",\"gridcolor\":\"white\",\"linecolor\":\"white\",\"showbackground\":true,\"ticks\":\"\",\"zerolinecolor\":\"white\",\"gridwidth\":2},\"zaxis\":{\"backgroundcolor\":\"#E5ECF6\",\"gridcolor\":\"white\",\"linecolor\":\"white\",\"showbackground\":true,\"ticks\":\"\",\"zerolinecolor\":\"white\",\"gridwidth\":2}},\"shapedefaults\":{\"line\":{\"color\":\"#2a3f5f\"}},\"annotationdefaults\":{\"arrowcolor\":\"#2a3f5f\",\"arrowhead\":0,\"arrowwidth\":1},\"geo\":{\"bgcolor\":\"white\",\"landcolor\":\"#E5ECF6\",\"subunitcolor\":\"white\",\"showland\":true,\"showlakes\":true,\"lakecolor\":\"white\"},\"title\":{\"x\":0.05},\"mapbox\":{\"style\":\"light\"}}},\"mapbox\":{\"domain\":{\"x\":[0.0,1.0],\"y\":[0.0,1.0]},\"center\":{\"lat\":40.7268,\"lon\":-73.6343},\"zoom\":11,\"style\":\"stamen-terrain\"},\"legend\":{\"tracegroupgap\":0},\"margin\":{\"t\":0,\"r\":0,\"l\":0,\"b\":0},\"height\":300},                        {\"responsive\": true}                    ).then(function(){\n",
       "                            \n",
       "var gd = document.getElementById('a028ade6-169f-4bce-a2a9-2b19a8099702');\n",
       "var x = new MutationObserver(function (mutations, observer) {{\n",
       "        var display = window.getComputedStyle(gd).display;\n",
       "        if (!display || display === 'none') {{\n",
       "            console.log([gd, 'removed!']);\n",
       "            Plotly.purge(gd);\n",
       "            observer.disconnect();\n",
       "        }}\n",
       "}});\n",
       "\n",
       "// Listen for the removal of the full notebook cells\n",
       "var notebookContainer = gd.closest('#notebook-container');\n",
       "if (notebookContainer) {{\n",
       "    x.observe(notebookContainer, {childList: true});\n",
       "}}\n",
       "\n",
       "// Listen for the clearing of the current output cell\n",
       "var outputEl = gd.closest('.output');\n",
       "if (outputEl) {{\n",
       "    x.observe(outputEl, {childList: true});\n",
       "}}\n",
       "\n",
       "                        })                };                });            </script>        </div>"
      ]
     },
     "metadata": {},
     "output_type": "display_data"
    }
   ],
   "source": [
    "import plotly.express as px\n",
    "\n",
    "fig = px.scatter_mapbox(df, lat=\"Latitude\", lon=\"Longitude\", hover_name=\"Address\",\n",
    "                        color_discrete_sequence=[\"fuchsia\"], zoom=3, height=300)\n",
    "fig.update_layout(mapbox_style=\"stamen-terrain\", mapbox_zoom=11, mapbox_center_lat = 40.7268,mapbox_center_lon=-73.6343 )\n",
    "fig.update_layout(margin={\"r\":0,\"t\":0,\"l\":0,\"b\":0})\n",
    "fig.show()"
   ]
  },
  {
   "cell_type": "code",
   "execution_count": null,
   "metadata": {},
   "outputs": [],
   "source": [
    "json=eval(soup.find_all('script',{'id':\"__NEXT_DATA__\"})[0].text.replace('null','None').replace('false','False').replace('true','True'))\n"
   ]
  },
  {
   "cell_type": "code",
   "execution_count": null,
   "metadata": {},
   "outputs": [],
   "source": [
    "import os"
   ]
  },
  {
   "cell_type": "code",
   "execution_count": null,
   "metadata": {},
   "outputs": [],
   "source": [
    "df.to_csv(os.path.join('/Users/kaitlyntorres/Desktop','realtor.csv'))"
   ]
  },
  {
   "cell_type": "code",
   "execution_count": null,
   "metadata": {},
   "outputs": [],
   "source": [
    "async with async_playwright() as p:\n",
    "    browser = await p.chromium.launch(headless=True)\n",
    "    page = await browser.new_page()\n",
    "    zipCode = \"11530\"\n",
    "    url = \"https://www.realtor.com/realestateandhomes-search/\" + zipCode \n",
    "    \n",
    "    url2=\"https://www.realtor.com\"\n",
    "    await page.goto(url)\n",
    "    time.sleep(6)\n",
    "    html = await page.content()\n",
    "\n",
    "    \n",
    "    urls=[]\n",
    "    soup = bs(html, 'html.parser')\n",
    "    for a in soup.find_all('a', {'rel':\"noopener\",'href':True}):\n",
    "        if('www.realtor.com/videos' not in a['href']):\n",
    "            urls.append(url2+a['href'])\n"
   ]
  },
  {
   "cell_type": "code",
   "execution_count": null,
   "metadata": {},
   "outputs": [],
   "source": [
    "### from signal import signal, SIGPIPE, SIG_DFL\n",
    "\n",
    "import sys\n",
    "import errno\n",
    "f=[]\n",
    "day=[]\n",
    "psqt=[]\n",
    "car=[]\n",
    "year=[]\n",
    "\n",
    "u=[]\n",
    "u.append(urls[0])\n",
    "u.append(urls[1])\n",
    "\n",
    "testt=[]\n",
    "async with async_playwright() as p:\n",
    "    browser = await p.chromium.launch(headless=True)\n",
    "    page = await browser.new_page()\n",
    "    c=0\n",
    "    for i in u:\n",
    "        await page.goto(i)\n",
    "        time.sleep(6)\n",
    "        html = await page.content()\n",
    "        \n",
    "        soup = bs(html, 'html.parser')\n",
    "        testt.append(soup)\n",
    "           # Handling of the error\n",
    "        \n",
    "                \n",
    "                \n",
    "\n",
    "        \n",
    "        \n",
    "\n",
    "            \n",
    "    "
   ]
  },
  {
   "cell_type": "code",
   "execution_count": null,
   "metadata": {},
   "outputs": [],
   "source": []
  },
  {
   "cell_type": "code",
   "execution_count": null,
   "metadata": {},
   "outputs": [],
   "source": []
  },
  {
   "cell_type": "code",
   "execution_count": null,
   "metadata": {},
   "outputs": [],
   "source": []
  },
  {
   "cell_type": "code",
   "execution_count": null,
   "metadata": {},
   "outputs": [],
   "source": []
  },
  {
   "cell_type": "code",
   "execution_count": null,
   "metadata": {},
   "outputs": [],
   "source": []
  }
 ],
 "metadata": {
  "kernelspec": {
   "display_name": "Python 3",
   "language": "python",
   "name": "python3"
  },
  "language_info": {
   "codemirror_mode": {
    "name": "ipython",
    "version": 3
   },
   "file_extension": ".py",
   "mimetype": "text/x-python",
   "name": "python",
   "nbconvert_exporter": "python",
   "pygments_lexer": "ipython3",
   "version": "3.8.5"
  },
  "vscode": {
   "interpreter": {
    "hash": "aee8b7b246df8f9039afb4144a1f6fd8d2ca17a180786b69acc140d282b71a49"
   }
  }
 },
 "nbformat": 4,
 "nbformat_minor": 4
}
